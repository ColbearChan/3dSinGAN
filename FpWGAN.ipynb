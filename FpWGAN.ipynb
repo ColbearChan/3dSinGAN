{
  "nbformat": 4,
  "nbformat_minor": 0,
  "metadata": {
    "colab": {
      "name": "FpWGAN.ipynb",
      "provenance": [],
      "authorship_tag": "ABX9TyMrgHh8OwcX8NEe7aBG/I3q",
      "include_colab_link": true
    },
    "kernelspec": {
      "name": "python3",
      "display_name": "Python 3"
    }
  },
  "cells": [
    {
      "cell_type": "markdown",
      "metadata": {
        "id": "view-in-github",
        "colab_type": "text"
      },
      "source": [
        "<a href=\"https://colab.research.google.com/github/HiuNgaiChan/3dSinGAN/blob/master/FpWGAN.ipynb\" target=\"_parent\"><img src=\"https://colab.research.google.com/assets/colab-badge.svg\" alt=\"Open In Colab\"/></a>"
      ]
    },
    {
      "cell_type": "code",
      "metadata": {
        "id": "WgpNeJxacH8y",
        "colab_type": "code",
        "colab": {}
      },
      "source": [
        "import torch\n",
        "import torchvision\n",
        "from torchvision import transforms, datasets\n",
        "import torch.nn as nn\n",
        "import torch.nn.functional as F\n",
        "import torch.optim as optim\n",
        "import matplotlib.pyplot as plt\n",
        "import numpy as np\n",
        "import pandas as pd\n",
        "from torch.utils.data import DataLoader\n",
        "from scipy.stats import wasserstein_distance\n",
        "\n",
        "\n",
        "\n",
        "dataCSV = pd.read_csv('noNorm1000.csv')\n",
        "dataTensor = torch.tensor(dataCSV.values).to(torch.float32)\n",
        "dataTensor = torch.flatten(dataTensor)\n",
        "dataTensor = dataTensor.reshape(1,dataTensor.size()[0])\n",
        "batch_size = 1\n",
        "dataset = torch.utils.data.DataLoader(dataTensor, batch_size=batch_size, shuffle=True)\n",
        "\n",
        "\n",
        "learningRate = 0.0001\n",
        "\n",
        "input_dim = dataTensor.size()[1]\n",
        "z_size = 1000\n",
        "\n"
      ],
      "execution_count": 3,
      "outputs": []
    },
    {
      "cell_type": "code",
      "metadata": {
        "id": "zILNFbQScPR9",
        "colab_type": "code",
        "colab": {}
      },
      "source": [
        "class DNet(nn.Module):\n",
        "    def __init__(self):\n",
        "      super().__init__()\n",
        "      self.net = nn.Sequential(\n",
        "          nn.Linear(input_dim,512),\n",
        "          nn.ReLU(),\n",
        "          #nn.Dropout(p=0.2),\n",
        "          nn.Linear(512, 256),\n",
        "          nn.ReLU(),\n",
        "          #nn.Dropout(p=0.2),\n",
        "          nn.Linear(256, 128),\n",
        "          nn.ReLU(),\n",
        "          #nn.Dropout(p=0.2),\n",
        "          nn.Linear(128, 1),\n",
        "      )\n",
        "\n",
        "\n",
        "    def forward(self, x):\n",
        "\n",
        "      return self.net(x)\n",
        "\n",
        "class GNet(nn.Module):\n",
        "    def __init__(self):\n",
        "      super().__init__()\n",
        "      self.net = nn.Sequential(\n",
        "          nn.Linear(z_size, 128),\n",
        "          nn.ReLU(),\n",
        "          nn.Linear(128, 256),\n",
        "          nn.ReLU(),\n",
        "          nn.Linear(256,512),\n",
        "          nn.ReLU(),\n",
        "          nn.Linear(512,input_dim),\n",
        "          nn.Tanh()\n",
        "      )\n",
        "    def forward(self, x):\n",
        "\n",
        "      return self.net(x)"
      ],
      "execution_count": 4,
      "outputs": []
    },
    {
      "cell_type": "code",
      "metadata": {
        "id": "elZGVK6dcREU",
        "colab_type": "code",
        "colab": {}
      },
      "source": [
        "d = DNet()\n",
        "g = GNet()\n",
        "\n",
        "optimizerD = optim.RMSprop(d.parameters(), lr=0.00005)\n",
        "optimizerG = optim.RMSprop(g.parameters(), lr=0.00005)"
      ],
      "execution_count": 5,
      "outputs": []
    },
    {
      "cell_type": "code",
      "metadata": {
        "id": "S4Pofw94cSp0",
        "colab_type": "code",
        "colab": {
          "base_uri": "https://localhost:8080/",
          "height": 1000
        },
        "outputId": "2feeffbb-4dc8-43a2-d470-7bb679ddbb82"
      },
      "source": [
        "print(\"start training\")\n",
        "\n",
        "emdList = []\n",
        "ksteps = 5\n",
        "num_epochs = 7000\n",
        "#z = torch.randn(batch_size,z_size)\n",
        "for epochs in range(num_epochs):\n",
        "  for batch in dataset:\n",
        "    d_loss_real_list = torch.zeros(ksteps)\n",
        "    d_loss_fake_list = torch.zeros(ksteps)\n",
        "    for k in range(ksteps):\n",
        "      #train the discriminator\n",
        "      d.zero_grad()\n",
        "      real_output = d(batch.view(batch.size()[0],input_dim))\n",
        "\n",
        "      z = torch.randn(batch.size()[0],z_size)\n",
        "      g_fake = g(z)\n",
        "      fake_output = d(g_fake)\n",
        "\n",
        "      d_loss_real_list[k] = real_output\n",
        "      d_loss_fake_list[k] = fake_output\n",
        "\n",
        "\n",
        "    d_loss = -torch.mean(d_loss_real_list) + torch.mean(d_loss_fake_list)\n",
        "    d_loss.backward()\n",
        "    optimizerD.step()\n",
        "    for p in d.parameters():\n",
        "      p.data.clamp_(-0.01, 0.01)\n",
        "\n",
        "    #train the generator\n",
        "    g.zero_grad()\n",
        "    z = torch.randn(batch.size()[0],z_size)\n",
        "    gd_output = d(g(z))\n",
        "    g_loss = - gd_output\n",
        "    g_loss.backward()\n",
        "    optimizerG.step()\n",
        "\n",
        "  if epochs%100 == 0:\n",
        "    #print(\"Epochs[\", epochs,\"]: \", \" d_loss -> \",round(d_loss.item(),2), \" g_loss -> \", round(g_loss.item(),2))\n",
        "    with torch.no_grad():\n",
        "      z = torch.randn(1,z_size)\n",
        "      g_output = g(z)\n",
        "      emd = wasserstein_distance(dataTensor[0].tolist(), g_output[0].tolist())     \n",
        "      print(\"Epochs[\", epochs, \"]: EMD = \" + str(emd))\n",
        "      emdList.append(emd)"
      ],
      "execution_count": 6,
      "outputs": [
        {
          "output_type": "stream",
          "text": [
            "start training\n",
            "Epochs[ 0 ]: EMD = 0.49892120280422386\n",
            "Epochs[ 100 ]: EMD = 0.04281176131440831\n",
            "Epochs[ 200 ]: EMD = 0.03989829343947349\n",
            "Epochs[ 300 ]: EMD = 0.024720790010488904\n",
            "Epochs[ 400 ]: EMD = 0.019210291052479685\n",
            "Epochs[ 500 ]: EMD = 0.04352921189802388\n",
            "Epochs[ 600 ]: EMD = 0.0639309419907125\n",
            "Epochs[ 700 ]: EMD = 0.019962486469419675\n",
            "Epochs[ 800 ]: EMD = 0.04377200520172482\n",
            "Epochs[ 900 ]: EMD = 0.03361344481060708\n",
            "Epochs[ 1000 ]: EMD = 0.0361663229445985\n",
            "Epochs[ 1100 ]: EMD = 0.02095512680047735\n",
            "Epochs[ 1200 ]: EMD = 0.019459113801839217\n",
            "Epochs[ 1300 ]: EMD = 0.02988796167051381\n",
            "Epochs[ 1400 ]: EMD = 0.04643376954987374\n",
            "Epochs[ 1500 ]: EMD = 0.015712671056651743\n",
            "Epochs[ 1600 ]: EMD = 0.020568865983174568\n",
            "Epochs[ 1700 ]: EMD = 0.012955450077318046\n",
            "Epochs[ 1800 ]: EMD = 0.013227499535210276\n",
            "Epochs[ 1900 ]: EMD = 0.021584253813246808\n",
            "Epochs[ 2000 ]: EMD = 0.02788014745644371\n",
            "Epochs[ 2100 ]: EMD = 0.02062667217265698\n",
            "Epochs[ 2200 ]: EMD = 0.031806161620896695\n",
            "Epochs[ 2300 ]: EMD = 0.03699671408695092\n",
            "Epochs[ 2400 ]: EMD = 0.02873278143713833\n",
            "Epochs[ 2500 ]: EMD = 0.019244694184628312\n",
            "Epochs[ 2600 ]: EMD = 0.0394467559804713\n",
            "Epochs[ 2700 ]: EMD = 0.025578947339759905\n",
            "Epochs[ 2800 ]: EMD = 0.01874097657655754\n",
            "Epochs[ 2900 ]: EMD = 0.011081932795185517\n",
            "Epochs[ 3000 ]: EMD = 0.017336579700980414\n",
            "Epochs[ 3100 ]: EMD = 0.025758079783350697\n",
            "Epochs[ 3200 ]: EMD = 0.018381809418429235\n",
            "Epochs[ 3300 ]: EMD = 0.026588364211803613\n",
            "Epochs[ 3400 ]: EMD = 0.046617234178731454\n",
            "Epochs[ 3500 ]: EMD = 0.02314755635052764\n",
            "Epochs[ 3600 ]: EMD = 0.015252551412355387\n",
            "Epochs[ 3700 ]: EMD = 0.033039203763910334\n",
            "Epochs[ 3800 ]: EMD = 0.017062619833547312\n",
            "Epochs[ 3900 ]: EMD = 0.009459456993121422\n",
            "Epochs[ 4000 ]: EMD = 0.014248805471628049\n",
            "Epochs[ 4100 ]: EMD = 0.016014626383092645\n",
            "Epochs[ 4200 ]: EMD = 0.01606567641841442\n",
            "Epochs[ 4300 ]: EMD = 0.0191439763912446\n",
            "Epochs[ 4400 ]: EMD = 0.015453085504743893\n",
            "Epochs[ 4500 ]: EMD = 0.019601037838680592\n",
            "Epochs[ 4600 ]: EMD = 0.021836650017939975\n",
            "Epochs[ 4700 ]: EMD = 0.016252145199793934\n",
            "Epochs[ 4800 ]: EMD = 0.02199408530233389\n",
            "Epochs[ 4900 ]: EMD = 0.013285390477705127\n",
            "Epochs[ 5000 ]: EMD = 0.013301139147486537\n",
            "Epochs[ 5100 ]: EMD = 0.010048922969717147\n",
            "Epochs[ 5200 ]: EMD = 0.023938275658738954\n",
            "Epochs[ 5300 ]: EMD = 0.03199325885136689\n",
            "Epochs[ 5400 ]: EMD = 0.013124831878075685\n",
            "Epochs[ 5500 ]: EMD = 0.030351001885544977\n",
            "Epochs[ 5600 ]: EMD = 0.02734718663651923\n",
            "Epochs[ 5700 ]: EMD = 0.026414144808572022\n",
            "Epochs[ 5800 ]: EMD = 0.03384091970771745\n",
            "Epochs[ 5900 ]: EMD = 0.021335041492372208\n",
            "Epochs[ 6000 ]: EMD = 0.009461922524923769\n",
            "Epochs[ 6100 ]: EMD = 0.019138121894715976\n",
            "Epochs[ 6200 ]: EMD = 0.010445048360221941\n",
            "Epochs[ 6300 ]: EMD = 0.02145205637482771\n",
            "Epochs[ 6400 ]: EMD = 0.02477878951934205\n",
            "Epochs[ 6500 ]: EMD = 0.009364190998467773\n",
            "Epochs[ 6600 ]: EMD = 0.02399540152909079\n",
            "Epochs[ 6700 ]: EMD = 0.00789320547566361\n",
            "Epochs[ 6800 ]: EMD = 0.013887448157290542\n",
            "Epochs[ 6900 ]: EMD = 0.010086832107364899\n"
          ],
          "name": "stdout"
        }
      ]
    },
    {
      "cell_type": "code",
      "metadata": {
        "id": "3i51G28VcT3b",
        "colab_type": "code",
        "colab": {
          "base_uri": "https://localhost:8080/",
          "height": 230
        },
        "outputId": "18042dbb-94f9-429f-cf32-85e2574abade"
      },
      "source": [
        "xis = np.arange(0,num_epochs,100)\n",
        "plt.plot(xis,emdList,'b-')\n",
        "plt.ylabel('EMD')\n",
        "plt.xlabel('Epochs')\n",
        "plt.title('FPGAN Wasserstein 5k Cube EMD')\n",
        "plt.grid(True)\n",
        "plt.savefig(\"fpganWasserstein5kCubeEMD.png\")\n",
        "plt.show()"
      ],
      "execution_count": 1,
      "outputs": [
        {
          "output_type": "error",
          "ename": "NameError",
          "evalue": "ignored",
          "traceback": [
            "\u001b[0;31m---------------------------------------------------------------------------\u001b[0m",
            "\u001b[0;31mNameError\u001b[0m                                 Traceback (most recent call last)",
            "\u001b[0;32m<ipython-input-1-731e5b29c948>\u001b[0m in \u001b[0;36m<module>\u001b[0;34m()\u001b[0m\n\u001b[0;32m----> 1\u001b[0;31m \u001b[0mxis\u001b[0m \u001b[0;34m=\u001b[0m \u001b[0mnp\u001b[0m\u001b[0;34m.\u001b[0m\u001b[0marange\u001b[0m\u001b[0;34m(\u001b[0m\u001b[0;36m0\u001b[0m\u001b[0;34m,\u001b[0m\u001b[0mnum_epochs\u001b[0m\u001b[0;34m,\u001b[0m\u001b[0;36m100\u001b[0m\u001b[0;34m)\u001b[0m\u001b[0;34m\u001b[0m\u001b[0;34m\u001b[0m\u001b[0m\n\u001b[0m\u001b[1;32m      2\u001b[0m \u001b[0mplt\u001b[0m\u001b[0;34m.\u001b[0m\u001b[0mplot\u001b[0m\u001b[0;34m(\u001b[0m\u001b[0mxis\u001b[0m\u001b[0;34m,\u001b[0m\u001b[0memdList\u001b[0m\u001b[0;34m,\u001b[0m\u001b[0;34m'b-'\u001b[0m\u001b[0;34m)\u001b[0m\u001b[0;34m\u001b[0m\u001b[0;34m\u001b[0m\u001b[0m\n\u001b[1;32m      3\u001b[0m \u001b[0mplt\u001b[0m\u001b[0;34m.\u001b[0m\u001b[0mylabel\u001b[0m\u001b[0;34m(\u001b[0m\u001b[0;34m'EMD'\u001b[0m\u001b[0;34m)\u001b[0m\u001b[0;34m\u001b[0m\u001b[0;34m\u001b[0m\u001b[0m\n\u001b[1;32m      4\u001b[0m \u001b[0mplt\u001b[0m\u001b[0;34m.\u001b[0m\u001b[0mxlabel\u001b[0m\u001b[0;34m(\u001b[0m\u001b[0;34m'Epochs'\u001b[0m\u001b[0;34m)\u001b[0m\u001b[0;34m\u001b[0m\u001b[0;34m\u001b[0m\u001b[0m\n\u001b[1;32m      5\u001b[0m \u001b[0mplt\u001b[0m\u001b[0;34m.\u001b[0m\u001b[0mtitle\u001b[0m\u001b[0;34m(\u001b[0m\u001b[0;34m'FPGAN Wasserstein 5k Cube EMD'\u001b[0m\u001b[0;34m)\u001b[0m\u001b[0;34m\u001b[0m\u001b[0;34m\u001b[0m\u001b[0m\n",
            "\u001b[0;31mNameError\u001b[0m: name 'np' is not defined"
          ]
        }
      ]
    },
    {
      "cell_type": "code",
      "metadata": {
        "id": "OphHMLXBY-yR",
        "colab_type": "code",
        "colab": {}
      },
      "source": [
        "#Checking if the generated point clouds are all unqiue to each other\n",
        "from metrics import checkUnique\n",
        "\n",
        "with torch.no_grad():\n",
        "  record = np.zeros(10)\n",
        "  for j in range(100):\n",
        "    print(j)\n",
        "    for i in range(10):\n",
        "      z = torch.randn(1000*(i+1),z_size)\n",
        "      g_output = g(z)\n",
        "      g_output = g_output.numpy()\n",
        "      #print(str(i+1) + \" \" + str(checkUnique(g_output)))\n",
        "      if checkUnique(g_output) == True:\n",
        "        record[i] += 1\n",
        "print(record)"
      ],
      "execution_count": null,
      "outputs": []
    },
    {
      "cell_type": "code",
      "metadata": {
        "id": "QRpMDvq_430K",
        "colab_type": "code",
        "colab": {}
      },
      "source": [
        "#Generating 10 point cloud csv files\n",
        "import csv\n",
        "import torch\n",
        "\n",
        "numModelPts = int(dataTensor.size()[1]/3)\n",
        "\n",
        "for i in range(10):\n",
        "  filename = \"Wasserstein5kPoint\" + str(i) +\".csv\"\n",
        "  with open(filename, \"w\", newline=\"\") as csvfile:\n",
        "    xyzWriter = csv.writer(csvfile, delimiter=\",\")\n",
        "    with torch.no_grad():\n",
        "      z = torch.randn(1,z_size)\n",
        "      g_output = g(z)\n",
        "      g_output = g_output.reshape(numModelPts,3).tolist()\n",
        "      for i in range(1000):\n",
        "        line = g_output[i]\n",
        "        xyzWriter.writerow(line)"
      ],
      "execution_count": 11,
      "outputs": []
    },
    {
      "cell_type": "code",
      "metadata": {
        "id": "gKGP9YIF4-zV",
        "colab_type": "code",
        "colab": {}
      },
      "source": [
        "#Generates n number of cloud points and combine them into a single csv file\n",
        "import csv\n",
        "import torch\n",
        "numModelPts = int(dataTensor.size()[1]/3)\n",
        "num_cubes = 1000\n",
        "filename = \"1kwganCombinedCubes\" + str(num_cubes) +\".csv\"\n",
        "with open(filename, \"w\", newline=\"\") as csvfile:\n",
        "  xyzWriter = csv.writer(csvfile, delimiter=\",\")\n",
        "  with torch.no_grad():\n",
        "    for itr in range(num_cubes):\n",
        "      z = torch.randn(1,z_size)\n",
        "      g_output = g(z)\n",
        "      g_output = g_output.reshape(numModelPts,3).tolist()\n",
        "      for i in range(1000):\n",
        "        line = g_output[i]\n",
        "        xyzWriter.writerow(line)"
      ],
      "execution_count": 10,
      "outputs": []
    },
    {
      "cell_type": "code",
      "metadata": {
        "id": "mVc-f4EsmOfw",
        "colab_type": "code",
        "colab": {
          "base_uri": "https://localhost:8080/",
          "height": 50
        },
        "outputId": "12d4c027-d44c-4d90-a283-166382b67733"
      },
      "source": [
        "with torch.no_grad():\n",
        "    z = torch.randn(1,z_size)\n",
        "    g_output = g(z)\n",
        "    print(g_output[0][0:5])\n",
        "    print(dataTensor[0][0:5])"
      ],
      "execution_count": null,
      "outputs": [
        {
          "output_type": "stream",
          "text": [
            "tensor([0.3248, 0.9390, 0.9971, 0.5473, 0.7481])\n",
            "tensor([0.3591, 0.9180, 1.0000, 0.5380, 0.7089])\n"
          ],
          "name": "stdout"
        }
      ]
    }
  ]
}