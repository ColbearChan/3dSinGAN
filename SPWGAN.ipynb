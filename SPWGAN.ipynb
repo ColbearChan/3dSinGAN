{
  "nbformat": 4,
  "nbformat_minor": 0,
  "metadata": {
    "colab": {
      "name": "SPWGAN.ipynb",
      "provenance": [],
      "collapsed_sections": [],
      "authorship_tag": "ABX9TyN7fSN+ZP/ggoH0AjvN833U",
      "include_colab_link": true
    },
    "kernelspec": {
      "name": "python3",
      "display_name": "Python 3"
    }
  },
  "cells": [
    {
      "cell_type": "markdown",
      "metadata": {
        "id": "view-in-github",
        "colab_type": "text"
      },
      "source": [
        "<a href=\"https://colab.research.google.com/github/HiuNgaiChan/3dSinGAN/blob/master/SPWGAN.ipynb\" target=\"_parent\"><img src=\"https://colab.research.google.com/assets/colab-badge.svg\" alt=\"Open In Colab\"/></a>"
      ]
    },
    {
      "cell_type": "code",
      "metadata": {
        "id": "vUvjhugg9mKY",
        "colab_type": "code",
        "colab": {}
      },
      "source": [
        "import torch\n",
        "import torchvision\n",
        "from torchvision import transforms, datasets\n",
        "import torch.nn as nn\n",
        "import torch.nn.functional as F\n",
        "import torch.optim as optim\n",
        "import matplotlib.pyplot as plt\n",
        "import numpy as np\n",
        "import pandas as pd\n",
        "\n",
        "learningRate = 0.00005\n",
        "batch_size = 1000\n",
        "single_data_size = 3\n",
        "latent_size = 200\n",
        "\n",
        "dataCSV = pd.read_csv('noNorm1000.csv')\n",
        "dataTensor = torch.tensor(dataCSV.values).to(torch.float32)\n",
        "dataset = torch.utils.data.DataLoader(dataTensor, batch_size=batch_size, shuffle=True)\n",
        "\n",
        "\n",
        "class DNet(nn.Module):\n",
        "    def __init__(self):\n",
        "      super().__init__()\n",
        "      self.net = nn.Sequential(\n",
        "          nn.Linear(single_data_size, 128),\n",
        "          nn.ReLU(),\n",
        "          nn.Linear(128, 256),\n",
        "          nn.ReLU(),\n",
        "          nn.Linear(256, 128),\n",
        "          nn.ReLU(),\n",
        "          nn.Linear(128, 1)\n",
        "      )\n",
        "\n",
        "\n",
        "    def forward(self, x):\n",
        "\n",
        "      return self.net(x)\n",
        "\n",
        "class GNet(nn.Module):\n",
        "    def __init__(self):\n",
        "      super().__init__()\n",
        "      self.net = nn.Sequential(\n",
        "          nn.Linear(latent_size, 256),\n",
        "          nn.ReLU(),\n",
        "          nn.Linear(256, 512),\n",
        "          nn.ReLU(),\n",
        "          nn.Linear(512, 256),\n",
        "          nn.ReLU(),\n",
        "          nn.Linear(256,single_data_size),\n",
        "          nn.Tanh()\n",
        "      )\n",
        "\n",
        "\n",
        "    def forward(self, x):\n",
        "\n",
        "      return self.net(x)"
      ],
      "execution_count": 1,
      "outputs": []
    },
    {
      "cell_type": "code",
      "metadata": {
        "id": "wcIn6p6n9sVJ",
        "colab_type": "code",
        "colab": {}
      },
      "source": [
        "d = DNet()\n",
        "g = GNet()"
      ],
      "execution_count": 11,
      "outputs": []
    },
    {
      "cell_type": "code",
      "metadata": {
        "id": "Zt092qg69twh",
        "colab_type": "code",
        "colab": {
          "base_uri": "https://localhost:8080/",
          "height": 84
        },
        "outputId": "2825a3c6-84b5-44b2-fe0d-ba5e50999158"
      },
      "source": [
        "Epoch = 5000\n",
        "\n",
        "optimizerD = optim.RMSprop(d.parameters(), lr=0.00005)\n",
        "optimizerG = optim.RMSprop(g.parameters(), lr=0.00005)\n",
        "\n",
        "dlossList = []\n",
        "glossList = []\n",
        "\n",
        "print('start training...')\n",
        "\n",
        "\n",
        "for epoch in range(Epoch):\n",
        "  for batch in dataset:\n",
        "    d.zero_grad()\n",
        "    d_real_loss = d(batch.view(batch_size,3))\n",
        "\n",
        "    Z = torch.rand(batch_size,200)\n",
        "    d_fake_loss = d(g(Z))\n",
        "\n",
        "    d_loss = -torch.mean(d_real_loss) + torch.mean(d_fake_loss)\n",
        "\n",
        "    d_loss.backward()\n",
        "    optimizerD.step()\n",
        "    for p in d.parameters():\n",
        "      p.data.clamp_(-0.01, 0.01)\n",
        "\n",
        "    Z = torch.rand(batch_size,200)\n",
        "    g.zero_grad()\n",
        "    gd_output = d(g(Z))\n",
        "\n",
        "\n",
        "    g_loss = -torch.mean(gd_output)\n",
        "    g_loss.backward()\n",
        "    optimizerG.step()\n",
        "  if epoch%10 == 0:\n",
        "    dlossList.append(d_loss.item())\n",
        "    glossList.append(g_loss.item())    \n",
        "\n",
        "  if epoch%100 == 0:\n",
        "    print(epoch)\n",
        "    print('d_loss: ' + str(d_loss) +' g_loss: ' + str(g_loss))\n",
        "print(\"finish training\")"
      ],
      "execution_count": 12,
      "outputs": [
        {
          "output_type": "stream",
          "text": [
            "start training...\n",
            "0\n",
            "d_loss: tensor(0.0096, grad_fn=<AddBackward0>) g_loss: tensor(0.0110, grad_fn=<NegBackward>)\n",
            "finish training\n"
          ],
          "name": "stdout"
        }
      ]
    },
    {
      "cell_type": "code",
      "metadata": {
        "id": "j5XcSuxME8z7",
        "colab_type": "code",
        "colab": {
          "base_uri": "https://localhost:8080/",
          "height": 33
        },
        "outputId": "1ab22dca-89b2-4465-a2fc-8f95dda1a5aa"
      },
      "source": [
        "print(len(dlossList))"
      ],
      "execution_count": 10,
      "outputs": [
        {
          "output_type": "stream",
          "text": [
            "4\n"
          ],
          "name": "stdout"
        }
      ]
    },
    {
      "cell_type": "code",
      "metadata": {
        "id": "EqJVJRolGQRu",
        "colab_type": "code",
        "colab": {
          "base_uri": "https://localhost:8080/",
          "height": 295
        },
        "outputId": "44e8658a-b9c4-4c85-d92c-50b7afe063ea"
      },
      "source": [
        "xis = np.arange(0,Epoch,10)\n",
        "plt.plot(xis,dlossList,'r-', xis, glossList, 'b-')\n",
        "plt.ylabel('Loss')\n",
        "plt.xlabel('Epochs')\n",
        "plt.title('SpGAN Wasserstein loss')\n",
        "plt.grid(True)\n",
        "plt.savefig(\"spganWLoss.png\")\n",
        "plt.show()"
      ],
      "execution_count": 15,
      "outputs": [
        {
          "output_type": "display_data",
          "data": {
            "image/png": "[encoded data removed]",
            "text/plain": [
              "<Figure size 432x288 with 1 Axes>"
            ]
          },
          "metadata": {
            "tags": [],
            "needs_background": "light"
          }
        }
      ]
    },
    {
      "cell_type": "code",
      "metadata": {
        "id": "Y2VZk-AbKTRX",
        "colab_type": "code",
        "colab": {}
      },
      "source": [
        "import csv\n",
        "import torch\n",
        "\n",
        "for j in range(9):\n",
        "  with open(\"swCube\" + str(j) + \".csv\", \"w\", newline=\"\") as csvfile:\n",
        "    xyzWriter = csv.writer(csvfile, delimiter=\",\")\n",
        "    for i in range(1000):\n",
        "      with torch.no_grad():\n",
        "        Z = torch.rand(200)\n",
        "        line = g(Z).tolist()\n",
        "      xyzWriter.writerow(line)\n"
      ],
      "execution_count": 17,
      "outputs": []
    }
  ]
}