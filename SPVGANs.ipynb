{
  "nbformat": 4,
  "nbformat_minor": 0,
  "metadata": {
    "colab": {
      "name": "SPVGANs.ipynb",
      "provenance": [],
      "collapsed_sections": [],
      "include_colab_link": true
    },
    "kernelspec": {
      "name": "python3",
      "display_name": "Python 3"
    },
    "accelerator": "GPU"
  },
  "cells": [
    {
      "cell_type": "markdown",
      "metadata": {
        "id": "view-in-github",
        "colab_type": "text"
      },
      "source": [
        "<a href=\"https://colab.research.google.com/github/HiuNgaiChan/3dSinGAN/blob/master/SPVGANs.ipynb\" target=\"_parent\"><img src=\"https://colab.research.google.com/assets/colab-badge.svg\" alt=\"Open In Colab\"/></a>"
      ]
    },
    {
      "cell_type": "code",
      "metadata": {
        "id": "bYJvsTqAGgon",
        "colab_type": "code",
        "colab": {}
      },
      "source": [
        "import torch\n",
        "import torchvision\n",
        "from torchvision import transforms, datasets\n",
        "import torch.nn as nn\n",
        "import torch.nn.functional as F\n",
        "import torch.optim as optim\n",
        "import matplotlib.pyplot as plt\n",
        "import numpy as np\n",
        "import pandas as pd\n",
        "\n",
        "learningRate = 0.00005\n",
        "batch_size = 1000\n",
        "single_data_size = 3\n",
        "latent_size = 200\n",
        "dataCSV = pd.read_csv('noNorm1000.csv')\n",
        "dataTensor = torch.tensor(dataCSV.values).to(torch.float32)\n",
        "dataset = torch.utils.data.DataLoader(dataTensor, batch_size=batch_size, shuffle=True)\n",
        "\n",
        "class DNet(nn.Module):\n",
        "    def __init__(self):\n",
        "      super().__init__()\n",
        "      self.net = nn.Sequential(\n",
        "          nn.Linear(single_data_size, 128),\n",
        "          nn.ReLU(),\n",
        "          nn.Linear(128, 256),\n",
        "          nn.ReLU(),\n",
        "          nn.Linear(256, 128),\n",
        "          nn.ReLU(),\n",
        "          nn.Linear(128, 1),\n",
        "          nn.Sigmoid()\n",
        "      )\n",
        "\n",
        "\n",
        "    def forward(self, x):\n",
        "\n",
        "      return self.net(x)\n",
        "\n",
        "class GNet(nn.Module):\n",
        "    def __init__(self):\n",
        "      super().__init__()\n",
        "      self.net = nn.Sequential(\n",
        "          nn.Linear(latent_size, 256),\n",
        "          nn.ReLU(),\n",
        "          nn.Linear(256, 512),\n",
        "          nn.ReLU(),\n",
        "          nn.Linear(512, 256),\n",
        "          nn.ReLU(),    \n",
        "          nn.Linear(256, single_data_size),\n",
        "          nn.Tanh()\n",
        "      )\n",
        "\n",
        "\n",
        "    def forward(self, x):\n",
        "\n",
        "      return self.net(x)"
      ],
      "execution_count": 3,
      "outputs": []
    },
    {
      "cell_type": "code",
      "metadata": {
        "id": "cIvqhgIyGmXw",
        "colab_type": "code",
        "colab": {}
      },
      "source": [
        "d = DNet()\n",
        "g = GNet()\n",
        "lossF = nn.BCELoss()"
      ],
      "execution_count": 4,
      "outputs": []
    },
    {
      "cell_type": "code",
      "metadata": {
        "id": "oEBXzUo0Gn_Y",
        "colab_type": "code",
        "colab": {
          "base_uri": "https://localhost:8080/",
          "height": 1000
        },
        "outputId": "36889653-4dd7-4c36-ca88-ace22ef438aa"
      },
      "source": [
        "Epoch = 5000\n",
        "\n",
        "optimizerD = optim.Adam(d.parameters(), lr=learningRate, betas = (0.5, 0.999))\n",
        "optimizerG = optim.Adam(g.parameters(), lr=learningRate, betas = (0.5, 0.999))\n",
        "realLabel2 = torch.tensor([0.9]).to(torch.float32)\n",
        "fakeLabel2 = torch.tensor([0.1]).to(torch.float32)\n",
        "realLabel = torch.ones([batch_size,1],dtype = torch.float32)\n",
        "fakeLabel = torch.zeros([batch_size,1],dtype = torch.float32)\n",
        "\n",
        "dlossList = []\n",
        "glossList = []\n",
        "\n",
        "print('start training...')\n",
        "\n",
        "\n",
        "for epoch in range(Epoch):\n",
        "  for batch in dataset:\n",
        "    d.zero_grad()\n",
        "    output = d(batch.view(batch_size,3))\n",
        "\n",
        "    loss_real = lossF(output, realLabel)\n",
        "\n",
        "    Z = torch.rand(batch_size, latent_size)\n",
        "    output = d(g(Z))\n",
        "    loss_fake = lossF(output, fakeLabel)\n",
        "    d_loss = loss_real + loss_fake\n",
        "\n",
        "    d_loss.backward()\n",
        "    optimizerD.step()\n",
        "\n",
        "    #Z = torch.rand(batch_size, latent_size)\n",
        "    z = torch.rand(latent_size)\n",
        "    g.zero_grad()\n",
        "    output = d(g(Z))\n",
        "    g_loss = lossF(output,realLabel)\n",
        "    g_loss.backward()\n",
        "    optimizerG.step()\n",
        "\n",
        "  if epoch%10 == 0:\n",
        "    dlossList.append(d_loss)\n",
        "    glossList.append(g_loss)\n",
        "\n",
        "  if epoch%100 == 0:\n",
        "    print(epoch)\n",
        "    print('d_loss: ' + str(d_loss) +' g_loss: ' + str(g_loss))\n",
        "    with torch.no_grad():\n",
        "      Z = torch.rand(200)\n",
        "      print(g(Z))\n",
        "print(\"finish training\")"
      ],
      "execution_count": 7,
      "outputs": [
        {
          "output_type": "stream",
          "text": [
            "start training...\n",
            "0\n",
            "d_loss: tensor(1.4107, grad_fn=<AddBackward0>) g_loss: tensor(0.6288, grad_fn=<BinaryCrossEntropyBackward>)\n",
            "tensor([0.9130, 0.8032, 0.5711])\n",
            "100\n",
            "d_loss: tensor(1.3870, grad_fn=<AddBackward0>) g_loss: tensor(0.6233, grad_fn=<BinaryCrossEntropyBackward>)\n",
            "tensor([-0.6156, -0.2476,  0.5920])\n",
            "200\n",
            "d_loss: tensor(1.3562, grad_fn=<AddBackward0>) g_loss: tensor(0.7355, grad_fn=<BinaryCrossEntropyBackward>)\n",
            "tensor([0.9646, 0.6952, 0.9728])\n",
            "300\n",
            "d_loss: tensor(1.3663, grad_fn=<AddBackward0>) g_loss: tensor(0.7326, grad_fn=<BinaryCrossEntropyBackward>)\n",
            "tensor([0.4637, 0.7582, 0.5726])\n",
            "400\n",
            "d_loss: tensor(1.4336, grad_fn=<AddBackward0>) g_loss: tensor(0.6533, grad_fn=<BinaryCrossEntropyBackward>)\n",
            "tensor([-0.0906,  0.4916,  0.7214])\n",
            "500\n",
            "d_loss: tensor(1.3768, grad_fn=<AddBackward0>) g_loss: tensor(0.7064, grad_fn=<BinaryCrossEntropyBackward>)\n",
            "tensor([0.9135, 0.7980, 0.2056])\n",
            "600\n",
            "d_loss: tensor(1.3586, grad_fn=<AddBackward0>) g_loss: tensor(0.7507, grad_fn=<BinaryCrossEntropyBackward>)\n",
            "tensor([0.9649, 0.9656, 0.9597])\n",
            "700\n",
            "d_loss: tensor(1.3927, grad_fn=<AddBackward0>) g_loss: tensor(0.6656, grad_fn=<BinaryCrossEntropyBackward>)\n",
            "tensor([0.9037, 0.9015, 0.4316])\n",
            "800\n",
            "d_loss: tensor(1.3956, grad_fn=<AddBackward0>) g_loss: tensor(0.6767, grad_fn=<BinaryCrossEntropyBackward>)\n",
            "tensor([ 0.8756, -0.0399,  0.3227])\n",
            "900\n",
            "d_loss: tensor(1.3717, grad_fn=<AddBackward0>) g_loss: tensor(0.7159, grad_fn=<BinaryCrossEntropyBackward>)\n",
            "tensor([0.7351, 0.8656, 0.7001])\n",
            "1000\n",
            "d_loss: tensor(1.3735, grad_fn=<AddBackward0>) g_loss: tensor(0.6818, grad_fn=<BinaryCrossEntropyBackward>)\n",
            "tensor([0.7033, 0.5089, 0.9266])\n",
            "1100\n",
            "d_loss: tensor(1.4070, grad_fn=<AddBackward0>) g_loss: tensor(0.6789, grad_fn=<BinaryCrossEntropyBackward>)\n",
            "tensor([ 0.9622, -0.0551,  0.3385])\n",
            "1200\n",
            "d_loss: tensor(1.4352, grad_fn=<AddBackward0>) g_loss: tensor(0.6169, grad_fn=<BinaryCrossEntropyBackward>)\n",
            "tensor([-0.3242,  0.2398,  0.5650])\n",
            "1300\n",
            "d_loss: tensor(1.3544, grad_fn=<AddBackward0>) g_loss: tensor(0.7184, grad_fn=<BinaryCrossEntropyBackward>)\n",
            "tensor([0.1607, 0.5752, 0.2555])\n",
            "1400\n",
            "d_loss: tensor(1.3195, grad_fn=<AddBackward0>) g_loss: tensor(0.7865, grad_fn=<BinaryCrossEntropyBackward>)\n",
            "tensor([0.5662, 0.2613, 0.1026])\n",
            "1500\n",
            "d_loss: tensor(1.3351, grad_fn=<AddBackward0>) g_loss: tensor(0.7673, grad_fn=<BinaryCrossEntropyBackward>)\n",
            "tensor([ 0.7958, -0.1573,  0.9853])\n",
            "1600\n",
            "d_loss: tensor(1.3358, grad_fn=<AddBackward0>) g_loss: tensor(0.8279, grad_fn=<BinaryCrossEntropyBackward>)\n",
            "tensor([0.9411, 0.9680, 0.8222])\n",
            "1700\n",
            "d_loss: tensor(1.4154, grad_fn=<AddBackward0>) g_loss: tensor(0.6304, grad_fn=<BinaryCrossEntropyBackward>)\n",
            "tensor([0.9622, 0.3255, 0.8463])\n",
            "1800\n",
            "d_loss: tensor(1.3096, grad_fn=<AddBackward0>) g_loss: tensor(0.7494, grad_fn=<BinaryCrossEntropyBackward>)\n",
            "tensor([-0.4689,  0.9216,  0.6687])\n",
            "1900\n",
            "d_loss: tensor(1.3825, grad_fn=<AddBackward0>) g_loss: tensor(0.6559, grad_fn=<BinaryCrossEntropyBackward>)\n",
            "tensor([ 0.2257, -0.0771,  0.2407])\n",
            "2000\n",
            "d_loss: tensor(1.3121, grad_fn=<AddBackward0>) g_loss: tensor(0.8050, grad_fn=<BinaryCrossEntropyBackward>)\n",
            "tensor([0.4694, 0.3744, 0.8479])\n",
            "2100\n",
            "d_loss: tensor(1.2871, grad_fn=<AddBackward0>) g_loss: tensor(0.8075, grad_fn=<BinaryCrossEntropyBackward>)\n",
            "tensor([0.9683, 0.2411, 0.8791])\n",
            "2200\n",
            "d_loss: tensor(1.3347, grad_fn=<AddBackward0>) g_loss: tensor(0.7658, grad_fn=<BinaryCrossEntropyBackward>)\n",
            "tensor([0.2579, 0.9448, 0.8838])\n",
            "2300\n",
            "d_loss: tensor(1.3543, grad_fn=<AddBackward0>) g_loss: tensor(0.7321, grad_fn=<BinaryCrossEntropyBackward>)\n",
            "tensor([ 0.6084,  0.2206, -0.0880])\n",
            "2400\n",
            "d_loss: tensor(1.2612, grad_fn=<AddBackward0>) g_loss: tensor(0.8709, grad_fn=<BinaryCrossEntropyBackward>)\n",
            "tensor([0.9800, 0.9432, 0.9894])\n",
            "2500\n",
            "d_loss: tensor(1.4664, grad_fn=<AddBackward0>) g_loss: tensor(0.6351, grad_fn=<BinaryCrossEntropyBackward>)\n",
            "tensor([-0.2234,  0.7963,  0.5537])\n",
            "2600\n",
            "d_loss: tensor(1.4254, grad_fn=<AddBackward0>) g_loss: tensor(0.5909, grad_fn=<BinaryCrossEntropyBackward>)\n",
            "tensor([0.6085, 0.2001, 0.1413])\n",
            "2700\n",
            "d_loss: tensor(1.3694, grad_fn=<AddBackward0>) g_loss: tensor(0.7179, grad_fn=<BinaryCrossEntropyBackward>)\n",
            "tensor([0.1816, 0.8042, 0.2107])\n",
            "2800\n",
            "d_loss: tensor(1.2666, grad_fn=<AddBackward0>) g_loss: tensor(0.8348, grad_fn=<BinaryCrossEntropyBackward>)\n",
            "tensor([0.8950, 0.3663, 0.9030])\n",
            "2900\n",
            "d_loss: tensor(1.3288, grad_fn=<AddBackward0>) g_loss: tensor(0.8521, grad_fn=<BinaryCrossEntropyBackward>)\n",
            "tensor([0.9651, 0.9397, 0.1256])\n",
            "3000\n",
            "d_loss: tensor(1.4498, grad_fn=<AddBackward0>) g_loss: tensor(0.5555, grad_fn=<BinaryCrossEntropyBackward>)\n",
            "tensor([0.4846, 0.7944, 0.9516])\n",
            "3100\n",
            "d_loss: tensor(1.2932, grad_fn=<AddBackward0>) g_loss: tensor(0.7549, grad_fn=<BinaryCrossEntropyBackward>)\n",
            "tensor([-0.0854,  0.7478, -0.0474])\n",
            "3200\n",
            "d_loss: tensor(1.3285, grad_fn=<AddBackward0>) g_loss: tensor(0.8132, grad_fn=<BinaryCrossEntropyBackward>)\n",
            "tensor([ 0.9456,  0.3275, -0.0020])\n",
            "3300\n",
            "d_loss: tensor(1.2956, grad_fn=<AddBackward0>) g_loss: tensor(0.7269, grad_fn=<BinaryCrossEntropyBackward>)\n",
            "tensor([0.3731, 0.1226, 0.9564])\n",
            "3400\n",
            "d_loss: tensor(1.3631, grad_fn=<AddBackward0>) g_loss: tensor(0.7670, grad_fn=<BinaryCrossEntropyBackward>)\n",
            "tensor([-0.0113,  0.8132,  0.0984])\n",
            "3500\n",
            "d_loss: tensor(1.2651, grad_fn=<AddBackward0>) g_loss: tensor(0.8945, grad_fn=<BinaryCrossEntropyBackward>)\n",
            "tensor([0.9979, 0.9341, 0.9830])\n",
            "3600\n",
            "d_loss: tensor(1.4462, grad_fn=<AddBackward0>) g_loss: tensor(0.5542, grad_fn=<BinaryCrossEntropyBackward>)\n",
            "tensor([-0.3144,  0.2582,  0.2042])\n",
            "3700\n",
            "d_loss: tensor(1.4850, grad_fn=<AddBackward0>) g_loss: tensor(0.5669, grad_fn=<BinaryCrossEntropyBackward>)\n",
            "tensor([ 0.4529,  0.3065, -0.0156])\n",
            "3800\n",
            "d_loss: tensor(1.2794, grad_fn=<AddBackward0>) g_loss: tensor(0.8009, grad_fn=<BinaryCrossEntropyBackward>)\n",
            "tensor([0.5169, 0.7990, 0.2106])\n",
            "3900\n",
            "d_loss: tensor(1.3901, grad_fn=<AddBackward0>) g_loss: tensor(0.6316, grad_fn=<BinaryCrossEntropyBackward>)\n",
            "tensor([0.0912, 0.1215, 0.9195])\n",
            "4000\n",
            "d_loss: tensor(1.0674, grad_fn=<AddBackward0>) g_loss: tensor(1.0467, grad_fn=<BinaryCrossEntropyBackward>)\n",
            "tensor([0.9773, 0.8891, 0.9928])\n",
            "4100\n",
            "d_loss: tensor(1.4625, grad_fn=<AddBackward0>) g_loss: tensor(0.6617, grad_fn=<BinaryCrossEntropyBackward>)\n",
            "tensor([-0.1626,  0.9430,  0.3574])\n",
            "4200\n",
            "d_loss: tensor(1.6262, grad_fn=<AddBackward0>) g_loss: tensor(0.4780, grad_fn=<BinaryCrossEntropyBackward>)\n",
            "tensor([0.8443, 0.1435, 0.3909])\n",
            "4300\n",
            "d_loss: tensor(1.2611, grad_fn=<AddBackward0>) g_loss: tensor(0.8732, grad_fn=<BinaryCrossEntropyBackward>)\n",
            "tensor([0.5623, 0.7352, 0.6865])\n",
            "4400\n",
            "d_loss: tensor(1.2755, grad_fn=<AddBackward0>) g_loss: tensor(0.5941, grad_fn=<BinaryCrossEntropyBackward>)\n",
            "tensor([0.1988, 0.3578, 0.9199])\n",
            "4500\n",
            "d_loss: tensor(1.2907, grad_fn=<AddBackward0>) g_loss: tensor(0.9989, grad_fn=<BinaryCrossEntropyBackward>)\n",
            "tensor([0.9043, 0.4422, 0.0534])\n",
            "4600\n",
            "d_loss: tensor(1.2590, grad_fn=<AddBackward0>) g_loss: tensor(0.7386, grad_fn=<BinaryCrossEntropyBackward>)\n",
            "tensor([0.3970, 0.9799, 0.9526])\n",
            "4700\n",
            "d_loss: tensor(1.4979, grad_fn=<AddBackward0>) g_loss: tensor(0.6241, grad_fn=<BinaryCrossEntropyBackward>)\n",
            "tensor([ 0.9032, -0.0982,  0.7333])\n",
            "4800\n",
            "d_loss: tensor(1.3409, grad_fn=<AddBackward0>) g_loss: tensor(0.5876, grad_fn=<BinaryCrossEntropyBackward>)\n",
            "tensor([ 0.1934, -0.0042, -0.1925])\n",
            "4900\n",
            "d_loss: tensor(1.2039, grad_fn=<AddBackward0>) g_loss: tensor(0.9846, grad_fn=<BinaryCrossEntropyBackward>)\n",
            "tensor([0.9839, 0.0337, 0.9255])\n",
            "finish training\n"
          ],
          "name": "stdout"
        }
      ]
    },
    {
      "cell_type": "code",
      "metadata": {
        "id": "STfbg6nBwlTE",
        "colab_type": "code",
        "colab": {
          "base_uri": "https://localhost:8080/",
          "height": 196
        },
        "outputId": "89e85af4-b9b5-425d-c4c8-468d58cf8df3"
      },
      "source": [
        "with torch.no_grad():\n",
        "  Z = torch.rand(3,200)\n",
        "  print(g(Z))"
      ],
      "execution_count": 1,
      "outputs": [
        {
          "output_type": "error",
          "ename": "NameError",
          "evalue": "ignored",
          "traceback": [
            "\u001b[0;31m---------------------------------------------------------------------------\u001b[0m",
            "\u001b[0;31mNameError\u001b[0m                                 Traceback (most recent call last)",
            "\u001b[0;32m<ipython-input-1-95d86e6e4c72>\u001b[0m in \u001b[0;36m<module>\u001b[0;34m()\u001b[0m\n\u001b[0;32m----> 1\u001b[0;31m \u001b[0;32mwith\u001b[0m \u001b[0mtorch\u001b[0m\u001b[0;34m.\u001b[0m\u001b[0mno_grad\u001b[0m\u001b[0;34m(\u001b[0m\u001b[0;34m)\u001b[0m\u001b[0;34m:\u001b[0m\u001b[0;34m\u001b[0m\u001b[0;34m\u001b[0m\u001b[0m\n\u001b[0m\u001b[1;32m      2\u001b[0m   \u001b[0mZ\u001b[0m \u001b[0;34m=\u001b[0m \u001b[0mtorch\u001b[0m\u001b[0;34m.\u001b[0m\u001b[0mrand\u001b[0m\u001b[0;34m(\u001b[0m\u001b[0;36m3\u001b[0m\u001b[0;34m,\u001b[0m\u001b[0;36m200\u001b[0m\u001b[0;34m)\u001b[0m\u001b[0;34m\u001b[0m\u001b[0;34m\u001b[0m\u001b[0m\n\u001b[1;32m      3\u001b[0m   \u001b[0mprint\u001b[0m\u001b[0;34m(\u001b[0m\u001b[0mg\u001b[0m\u001b[0;34m(\u001b[0m\u001b[0mZ\u001b[0m\u001b[0;34m)\u001b[0m\u001b[0;34m)\u001b[0m\u001b[0;34m\u001b[0m\u001b[0;34m\u001b[0m\u001b[0m\n",
            "\u001b[0;31mNameError\u001b[0m: name 'torch' is not defined"
          ]
        }
      ]
    },
    {
      "cell_type": "code",
      "metadata": {
        "id": "c4XPB-C4FnvQ",
        "colab_type": "code",
        "colab": {
          "base_uri": "https://localhost:8080/",
          "height": 295
        },
        "outputId": "96b8c4d4-fd8d-4838-b247-aa6ac7c4510c"
      },
      "source": [
        "xis = np.arange(0,Epoch,10)\n",
        "plt.plot(xis,dlossList,'r-', xis, glossList, 'b-')\n",
        "plt.ylabel('Loss')\n",
        "plt.xlabel('Epochs')\n",
        "plt.title('SpGAN Vanilla loss')\n",
        "plt.grid(True)\n",
        "plt.savefig(\"spganVanillaLoss.png\")\n",
        "plt.show()"
      ],
      "execution_count": 9,
      "outputs": [
        {
          "output_type": "display_data",
          "data": {
            "image/png": "[encoded data removed]",
            "text/plain": [
              "<Figure size 432x288 with 1 Axes>"
            ]
          },
          "metadata": {
            "tags": [],
            "needs_background": "light"
          }
        }
      ]
    },
    {
      "cell_type": "code",
      "metadata": {
        "id": "Y4ewOB0TwqYy",
        "colab_type": "code",
        "colab": {
          "base_uri": "https://localhost:8080/",
          "height": 50
        },
        "outputId": "c5f0497b-73e3-45dc-a7e4-102d561506d8"
      },
      "source": [
        "with torch.no_grad():\n",
        "  fakeInput = torch.rand([1,3],dtype = torch.float32)\n",
        "  realInput = torch.tensor([-9.17560291,8.07809353,10.00162411]).to(torch.float32)\n",
        "  print(d(fakeInput))\n",
        "  print(d(realInput))\n"
      ],
      "execution_count": null,
      "outputs": [
        {
          "output_type": "stream",
          "text": [
            "tensor([[0.5017]])\n",
            "tensor([0.4111])\n"
          ],
          "name": "stdout"
        }
      ]
    },
    {
      "cell_type": "code",
      "metadata": {
        "id": "9W71IY96OOIx",
        "colab_type": "code",
        "colab": {}
      },
      "source": [
        "import csv\n",
        "import torch\n",
        "\n",
        "\n",
        "with open(\"sCubeOne.csv\", \"w\", newline=\"\") as csvfile:\n",
        "  xyzWriter = csv.writer(csvfile, delimiter=\",\")\n",
        "  for i in range(1000):\n",
        "    with torch.no_grad():\n",
        "      Z = torch.rand(200)\n",
        "      line = g(Z).tolist()\n",
        "    xyzWriter.writerow(line)\n"
      ],
      "execution_count": 10,
      "outputs": []
    },
    {
      "cell_type": "code",
      "metadata": {
        "id": "7Id5OK0LK8JS",
        "colab_type": "code",
        "colab": {}
      },
      "source": [
        "import csv\n",
        "import torch\n",
        "\n",
        "for j in range(9):\n",
        "  with open(\"sCube\" + str(j) + \".csv\", \"w\", newline=\"\") as csvfile:\n",
        "    xyzWriter = csv.writer(csvfile, delimiter=\",\")\n",
        "    for i in range(1000):\n",
        "      with torch.no_grad():\n",
        "        Z = torch.rand(200)\n",
        "        line = g(Z).tolist()\n",
        "      xyzWriter.writerow(line)"
      ],
      "execution_count": 11,
      "outputs": []
    }
  ]
}